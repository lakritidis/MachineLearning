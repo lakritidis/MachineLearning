{
 "cells": [
  {
   "cell_type": "markdown",
   "metadata": {
    "collapsed": true
   },
   "source": [
    "# Support Vector Machines\n",
    "\n",
    "SVM is a powerful classification method that is considered to be an extension of the Perceptron.\n",
    "\n",
    "Using the Perceptron algorithm, we minimize misclassification errors. However, in SVMs our optimization objective is to maximize the margin (that is, the distance) between the separating hyperplane (decision boundary) and the training examples that are closest to this hyperplane. These training examples are the so-called support vectors.\n"
   ]
  },
  {
   "cell_type": "markdown",
   "metadata": {},
   "source": [
    "## A custom dataset\n",
    "\n",
    "In this notebook we will experiment with a small custom dataset that resides in an external CSV file (namely, `svm.csv`).  In brief, the content of a CSV file is formatted as plain text and can be opened with a standard text editor. Each line represents a sample. The columns are delimited by special symbols, such as commas, colons, or semicolons.\n",
    "\n",
    "The following excerpt of a CSV file illustrates two comma-separated lines with three columns:\n",
    "\n",
    "```\n",
    "1,1,0\n",
    "2,3,1\n",
    "```\n",
    "\n",
    "We will present more details about CSV files in a future lecture.\n",
    "\n",
    "This specific dataset includes 5 samples and 3 columns. The first two columns will be considered as the input variables, whereas the third column will represent the target variables. The target variables will be in 0/1 binary format so that `svm.csv` can be used as a benchmark dataset for binary classifiers such as the Support Vector Machines.\n",
    "\n",
    "**Notice**: The dataset file `svm.csv` must reside into the same directory as the current notebook. Otherwise, Python will not be able to access it. \n"
   ]
  },
  {
   "cell_type": "code",
   "execution_count": 2,
   "metadata": {},
   "outputs": [],
   "source": [
    "import numpy as np\n",
    "from numpy import genfromtxt\n",
    "import matplotlib.pyplot as plt\n",
    "import matplotlib.patches as mpatches\n",
    "from matplotlib.colors import ListedColormap\n",
    "\n",
    "data = genfromtxt('svm.csv', delimiter=',')\n",
    "\n",
    "X = np.array(data[:, 0:2])\n",
    "Y = np.array(data[:, 2], dtype=int)\n"
   ]
  },
  {
   "cell_type": "markdown",
   "metadata": {},
   "source": [
    "Now let us examine the input variables (or, the features) of the dataset.\n"
   ]
  },
  {
   "cell_type": "code",
   "execution_count": 3,
   "metadata": {},
   "outputs": [
    {
     "name": "stdout",
     "output_type": "stream",
     "text": [
      "Input Variables: (5, 2)\n",
      "[[0. 0.]\n",
      " [1. 1.]\n",
      " [2. 3.]\n",
      " [2. 0.]\n",
      " [3. 4.]]\n"
     ]
    }
   ],
   "source": [
    "print(\"Input Variables:\", X.shape)\n",
    "print(X)\n"
   ]
  },
  {
   "cell_type": "markdown",
   "metadata": {},
   "source": [
    "Below we print the the target variables of the 5 samples of the dataset. This is a classification problem. In such types of problems, we usually refer to the target variables as class labels. \n"
   ]
  },
  {
   "cell_type": "code",
   "execution_count": 4,
   "metadata": {},
   "outputs": [
    {
     "name": "stdout",
     "output_type": "stream",
     "text": [
      "Target Variables: (5,)\n",
      "[0 0 1 0 1]\n"
     ]
    }
   ],
   "source": [
    "print(\"Target Variables:\", Y.shape)\n",
    "print(Y)\n"
   ]
  },
  {
   "cell_type": "code",
   "execution_count": 5,
   "metadata": {},
   "outputs": [
    {
     "data": {
      "image/png": "[encoded data removed]",
      "text/plain": [
       "<Figure size 360x360 with 1 Axes>"
      ]
     },
     "metadata": {
      "needs_background": "light"
     },
     "output_type": "display_data"
    }
   ],
   "source": [
    "fig = plt.figure(figsize=(5, 5))\n",
    "\n",
    "colors = { 0 : 'red' , 1 : 'blue' }\n",
    "ecolors = [ colors[y] for y in Y ]\n",
    "red = mpatches.Patch(color='red', label='Class A')\n",
    "blue = mpatches.Patch(color='blue', label='Class B')\n",
    "\n",
    "# Plot the points of class 0\n",
    "plt.scatter(x=X[Y==0, 0], y=X[Y==0, 1], alpha=0.8, c=colors[0], marker='o', label='label1', edgecolor='black')\n",
    "\n",
    "# Plot the points of class 1\n",
    "plt.scatter(x=X[Y==1, 0], y=X[Y==1, 1], alpha=0.8, c=colors[1], marker='o', label='label2', edgecolor='black')\n",
    "\n",
    "plt.legend(handles=[red, blue], loc=0)\n",
    "plt.show()\n"
   ]
  },
  {
   "cell_type": "markdown",
   "metadata": {},
   "source": [
    "## Support Vector Machines and scikit-learn\n",
    "\n",
    "Regarding [Support Vector Machines](https://scikit-learn.org/stable/modules/svm.html), scikit-learn includes three implementations: [SVC](https://scikit-learn.org/stable/modules/generated/sklearn.svm.SVC.html) and [NuSVC](https://scikit-learn.org/stable/modules/generated/sklearn.svm.NuSVC.html) are similar methods, but they accept slightly different sets of parameters. On the other hand, [LinearSVC](https://scikit-learn.org/stable/modules/generated/sklearn.svm.LinearSVC.html) is another (faster) implementation of Support Vector Classification for the case of a linear kernel. Note that `LinearSVC` does not accept the `kernel` parameter, as this is assumed to be linear.\n",
    "\n",
    "In this notebook we will use [SVC](https://scikit-learn.org/stable/modules/generated/sklearn.svm.SVC.html), because it can accept different types of kernels; therefore, it is suitable for handling both linear, and non-linear data distributions. Its most important properties are:\n",
    "\n",
    "* `kernel{'linear', 'poly', 'rbf', 'sigmoid', 'precomputed'}, default='rbf'`: Specifies the kernel type to be used in the algorithm. It must be one of 'linear', 'poly', 'rbf', 'sigmoid', 'precomputed' or a callable. If none is given, 'rbf' will be used. \n",
    "* `max_iter`: Hard limit on iterations within solver, or -1 for no limit.\n",
    "* `decision_function_shape{'ovo', 'ovr'}, default='ovr'`: Whether to return a one-vs-rest ('ovr') decision function as all other classifiers, or the original one-vs-one decision function of libsvm.\n"
   ]
  },
  {
   "cell_type": "code",
   "execution_count": 6,
   "metadata": {},
   "outputs": [
    {
     "data": {
      "text/plain": [
       "SVC(kernel='linear', random_state=1)"
      ]
     },
     "execution_count": 6,
     "metadata": {},
     "output_type": "execute_result"
    }
   ],
   "source": [
    "from sklearn.svm import SVC\n",
    "\n",
    "Classifier = SVC(kernel = 'linear', C = 1.0, random_state = 1) # Create an SVM model with linear kernel\n",
    "Classifier.fit(X, Y)\n"
   ]
  },
  {
   "cell_type": "code",
   "execution_count": 7,
   "metadata": {},
   "outputs": [],
   "source": [
    "# Plot 2 dimensional spaces and decision boundaries\n",
    "def plot_decision_regions_2D(X, y, classifier, resolution=0.02):\n",
    "    # setup marker generator and color map\n",
    "    markers = ('s', 'o', 'v', '^')\n",
    "    colors = ('red', 'blue', 'lightgreen', 'gray')\n",
    "    cmap = ListedColormap(colors[:len(np.unique(y))])\n",
    "\n",
    "    # plot the decision surface\n",
    "    x1_min, x1_max = X[:, 0].min() - 0.2, X[:, 0].max() + 0.2\n",
    "    x2_min, x2_max = X[:, 1].min() - 0.2, X[:, 1].max() + 0.2\n",
    " \n",
    "    # x1_min, x1_max = -1, 6\n",
    "    # x2_min, x2_max = -1, 6\n",
    "\n",
    "    # meshgrid: Return coordinate matrices from coordinate vectors. More specifically, we make N-D coordinate arrays\n",
    "    # for vectorized evaluations of N-D scalar/vector fields over N-D grids, given one-dimensional coordinate arrays.\n",
    "    xx1, xx2 = np.meshgrid(np.arange(x1_min, x1_max, resolution), np.arange(x2_min, x2_max, resolution))\n",
    "\n",
    "    # ravel: Return a contiguous flattened array.\n",
    "    # T: the transpose matrix\n",
    "    X_test = np.array([xx1.ravel(), xx2.ravel()]).T\n",
    "    # print(X_test)\n",
    "\n",
    "    Z = classifier.predict(X_test)\n",
    "    Z = Z.reshape(xx1.shape)\n",
    "\n",
    "    plt.contourf(xx1, xx2, Z, alpha=0.3, cmap=cmap)\n",
    "    plt.xlim(xx1.min(), xx1.max())\n",
    "    plt.ylim(xx2.min(), xx2.max())\n",
    "\n",
    "    for idx, cl in enumerate(np.unique(y)):\n",
    "        plt.scatter(x=X[y==cl, 0], y=X[y==cl, 1], alpha=0.8, c=colors[idx], marker=markers[idx], label=cl, edgecolor='black')\n"
   ]
  },
  {
   "cell_type": "markdown",
   "metadata": {},
   "source": [
    "## Model interpretation\n",
    "\n",
    "In the following interpretation, we use the following notation:\n",
    "* $C$ represents the number of classes,\n",
    "* $n$ is the number of features, and\n",
    "* $S$ to denote the number of the computed Support Vectors.\n",
    "\n",
    "Now the scikit-learn \n",
    "* `coef_`: An array that stores the weights assigned to the features. It is filled only when `kernel=\"linear\"`. Its shape is $C(C-1)/2 \\times n$.\n",
    "* `intercept_`: An array that stores the constants in the decision function. Its shape is $C(C-1)/2 \\times 1$.\n",
    "* `support_`: An array that stores the indices of the computed Support Vectors. Its shape is $S \\times 1$.\n",
    "* `support_vectors_`: An array that stores the computed Support Vectors. Its dimensions are $S \\times n$.\n",
    "* `n_support_`: An array that stores the number of the Support Vectors for each class. Its dimensions are $1 \\times C$.\n"
   ]
  },
  {
   "cell_type": "code",
   "execution_count": 8,
   "metadata": {},
   "outputs": [
    {
     "data": {
      "application/javascript": [
       "// A small piece of Javascript code that automatically assigns numbers to the equations\n",
       "MathJax.Hub.Config({\n",
       "    TeX: { equationNumbers: { autoNumber: \"AMS\" } }\n",
       "});\n"
      ],
      "text/plain": [
       "<IPython.core.display.Javascript object>"
      ]
     },
     "metadata": {},
     "output_type": "display_data"
    }
   ],
   "source": [
    "%%javascript\n",
    "// A small piece of Javascript code that automatically assigns numbers to the equations\n",
    "MathJax.Hub.Config({\n",
    "    TeX: { equationNumbers: { autoNumber: \"AMS\" } }\n",
    "});\n"
   ]
  },
  {
   "cell_type": "code",
   "execution_count": 9,
   "metadata": {},
   "outputs": [
    {
     "name": "stdout",
     "output_type": "stream",
     "text": [
      "Vector of weights (w): [0.4 0.8]\n",
      "b: -2.2\n",
      "Indices of support vectors: [1 2]\n",
      "Support vectors:\n",
      " [[1. 1.]\n",
      " [2. 3.]]\n",
      "\n",
      "Number of support vectors for each class: [1 1]\n"
     ]
    }
   ],
   "source": [
    "print(\"Vector of weights (w):\", Classifier.coef_[0])\n",
    "print(\"b:\", Classifier.intercept_[0])\n",
    "print(\"Indices of support vectors:\", Classifier.support_)\n",
    "print(\"Support vectors:\\n\", Classifier.support_vectors_)\n",
    "print(\"\\nNumber of support vectors for each class:\", Classifier.n_support_)\n"
   ]
  },
  {
   "cell_type": "markdown",
   "metadata": {},
   "source": [
    "## Plotting the decision boundary and the margin lines\n",
    "\n",
    "Since we employed a linear kernel for our SVM classifier, the decision boundary is a straingt line. The line equation of the decision boundary is:\n",
    "\n",
    "\\begin{equation}\n",
    "b + \\mathbf{x}^T\\mathbf{w} = 0\n",
    "\\label{eq:main}\n",
    "\\end{equation}\n",
    "\n",
    "where $b$ is given by the model's `intercept_` attribute, and $\\mathbf{w}$ is the aforementioned vector of weights that is given by the model's `coef_` attribute. Consequently, in our 2-dimensional example Eq. \\eqref{eq:main} can be written as follows:\n",
    "\n",
    "\\begin{equation}\n",
    "b + \\mathbf{x}^T\\mathbf{w} = 0 \\implies b + \\begin{bmatrix} x_0 \\\\ x_1 \\end{bmatrix} \\begin{bmatrix} w_0 ~~~ w_1 \\end{bmatrix} = 0 \\implies b + w_0x_0 + w_1x_1 = 0 \\implies x_1 = -\\frac{w_0}{w_1}x_0 - \\frac{b}{w_1}\n",
    "\\label{eq:2d}\n",
    "\\end{equation}\n",
    "\n",
    "In Eq. \\eqref{eq:2d} we call the ratio $-w_0/w_1$ as the slope $w$ of the line, namely:\n",
    "\n",
    "\\begin{equation}\n",
    "w = -\\frac{w_0}{w_1}\n",
    "\\label{eq:slope}\n",
    "\\end{equation}\n",
    "\n",
    "and by plugging Eq. \\eqref{eq:slope} into Eq. \\eqref{eq:2d} we get the final form of the equation of the decision boundary:\n",
    "\n",
    "\\begin{equation}\n",
    "x_1 = w \\cdot x_0 - \\frac{b}{w_1}\n",
    "\\label{eq:hyperplane}\n",
    "\\end{equation}\n",
    "\n",
    "According to the previous data, we have two support vectors. The first one is $\\mathbf{x}_1=(1,1)$ and supports the class 0 (we also call it the class A). Notice that $\\mathbf{x}_1=(1,1)$ is a real sample (i.e. feature vector) of the input dataset. The second support vector is $\\mathbf{x}_2=(2,3)$ and it is also a real sample of the dataset. It supports the class 1 which can be considered as the class B.\n",
    "\n",
    "Regarding the margin lines, the first element that we can consider is that they are both parallel to the decision boundary. In other words, the slopes of both lines are equal to the slope $w=-w_0/w_1$ of the decision boundary (Eq. \\eqref{eq:slope}). So the first margin line passes through the first support vector $\\mathbf{x}_1=(1,1)$ and has the same slope $w=-w_0/w_1$ as the decision boundary. Its equation is:\n",
    "\n",
    "\\begin{equation}\n",
    "y = w \\cdot x + \\mathbf{x}_1^{(1)} - w \\cdot \\mathbf{x}_1^{(0)}\n",
    "\\label{eq:margin1}\n",
    "\\end{equation}\n",
    "\n",
    "Similarly, the second line of the margin passes through the second support vector $\\mathbf{x}_2=(2,3)$ and also has the same slope $w=-w_0/w_1$ as the decision boundary. Its equation is:\n",
    "\n",
    "\\begin{equation}\n",
    "y = w \\cdot x + \\mathbf{x}_2^{(1)} - w \\cdot \\mathbf{x}_2^{(0)}\n",
    "\\label{eq:margin2}\n",
    "\\end{equation}\n",
    "\n"
   ]
  },
  {
   "cell_type": "code",
   "execution_count": 10,
   "metadata": {},
   "outputs": [
    {
     "name": "stdout",
     "output_type": "stream",
     "text": [
      "Support Vector 1: [1. 1.]\n",
      "Line 1: -0.5 * x +  1.5\n",
      "Support Vector 2: [2. 3.]\n",
      "Line 2: -0.5 * x + 4.0\n"
     ]
    },
    {
     "data": {
      "image/png": "[encoded data removed]",
      "text/plain": [
       "<Figure size 360x360 with 1 Axes>"
      ]
     },
     "metadata": {
      "needs_background": "light"
     },
     "output_type": "display_data"
    }
   ],
   "source": [
    "# The b parameter\n",
    "b = Classifier.intercept_[0]\n",
    "\n",
    "# w: the vector of weights\n",
    "w = Classifier.coef_[0]\n",
    "\n",
    "# The slope of the hyperplane\n",
    "slope = -w[0] / w[1]\n",
    "\n",
    "# The coordinates for the hyperplane (decision boundary)\n",
    "xx = np.linspace(0, 4, 50)     # Create 50 points between 0 and 4\n",
    "yy = slope * xx - (b / w[1])   # The equation of the decision boundary (Eq. 4)\n",
    "\n",
    "# The equation of the first margin line (Eq. 5)\n",
    "s = Classifier.support_vectors_[0]\n",
    "yy_down = slope * xx + (s[1] - slope * s[0])\n",
    "print (\"Support Vector 1:\", s)\n",
    "print(\"Line 1:\", slope, \"* x + \", s[1] - slope * s[0])\n",
    "\n",
    "# The equation of the second margin line (Eq. 6)\n",
    "s = Classifier.support_vectors_[-1]\n",
    "yy_up = slope * xx + (s[1] - slope * s[0])\n",
    "print (\"Support Vector 2:\", s)\n",
    "print(\"Line 2:\", slope, \"* x +\", s[1] - slope * s[0])\n",
    "\n",
    "# Plot the two-dimensional input space\n",
    "fig = plt.figure(figsize=(5, 5))\n",
    "plot_decision_regions_2D(X, Y, Classifier)\n",
    "\n",
    "# Plot the hyperplane (decision boundary)\n",
    "plt.plot(xx, yy, linewidth=2, color='black');\n",
    "\n",
    "# Plot the 2 margin lines (use k-- for dashed style)\n",
    "plt.plot(xx, yy_down, 'k--')\n",
    "plt.plot(xx, yy_up, 'k--')\n",
    "\n",
    "plt.legend(handles=[red, blue], loc=0)\n",
    "plt.show()\n"
   ]
  },
  {
   "cell_type": "markdown",
   "metadata": {},
   "source": [
    "## Classifying unknown samples\n",
    "\n",
    "Now let us use our trained SVM model to classify some unknown 2-d samples:"
   ]
  },
  {
   "cell_type": "code",
   "execution_count": 11,
   "metadata": {},
   "outputs": [
    {
     "name": "stdout",
     "output_type": "stream",
     "text": [
      "1\n",
      "0\n",
      "1\n",
      "0\n"
     ]
    }
   ],
   "source": [
    "print(Classifier.predict([[3,3]])[0])  # 'B'\n",
    "print(Classifier.predict([[4,0]])[0])  # 'A'\n",
    "print(Classifier.predict([[2,2]])[0])  # 'B'\n",
    "print(Classifier.predict([[1,2]])[0])  # 'A'"
   ]
  }
 ],
 "metadata": {
  "kernelspec": {
   "display_name": "Python 3 (ipykernel)",
   "language": "python",
   "name": "python3"
  },
  "language_info": {
   "codemirror_mode": {
    "name": "ipython",
    "version": 3
   },
   "file_extension": ".py",
   "mimetype": "text/x-python",
   "name": "python",
   "nbconvert_exporter": "python",
   "pygments_lexer": "ipython3",
   "version": "3.9.12"
  }
 },
 "nbformat": 4,
 "nbformat_minor": 2
}
