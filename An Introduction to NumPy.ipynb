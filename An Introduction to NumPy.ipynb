{
 "cells": [
  {
   "cell_type": "markdown",
   "metadata": {},
   "source": [
    "# MLLAB-03 - NumPy"
   ]
  },
  {
   "cell_type": "markdown",
   "metadata": {},
   "source": [
    "## Introduction\n",
    "\n",
    "NumPy and SciPy are open-source add-on modules to Python. They provide common mathematical and numerical routines in pre-compiled, fast functions. The NumPy (Numeric Python) package provides basic routines for manipulating large arrays and matrices of numeric data. On the other hand, the SciPy (Scientific Python) package extends the functionality of NumPy with a substantial collection of useful algorithms (like minimization, Fourier transformation, regression, and other applied mathematical techniques). \n",
    "\n",
    "There are several ways to import NumPy. The standard approach is to use a simple `import` statement. To avoid writing `numpy.X` over and over again, it is common to import under the briefer name `np`.\n"
   ]
  },
  {
   "cell_type": "code",
   "execution_count": 1,
   "metadata": {},
   "outputs": [],
   "source": [
    "import numpy\n",
    "import numpy as np\n"
   ]
  },
  {
   "cell_type": "markdown",
   "metadata": {},
   "source": [
    "## NumPy arrays\n",
    "\n",
    "The central component of NumPy is its array object class. NumPy arrays are similar to the standard Python lists. Nevertheless, **every element in a NumPy array must be of the same data type**. Therefore, a NumPy array may store intrinsic numeric types like floats or integers, lists, tuples, other NumPy arrays and so on. NumPy arrays support operations with large amounts of numeric data very fast and are much more efficient than lists.\n",
    "\n",
    "The function `array` takes two arguments: the list to be converted into the array and the type of each member of the list.\n"
   ]
  },
  {
   "cell_type": "code",
   "execution_count": 2,
   "metadata": {},
   "outputs": [
    {
     "name": "stdout",
     "output_type": "stream",
     "text": [
      "A = [1. 4. 5. 8.]\n",
      "<class 'numpy.ndarray'>\n",
      "\n",
      "B = [1 4 5 8]\n",
      "<class 'numpy.ndarray'>\n"
     ]
    }
   ],
   "source": [
    "A = np.array([1, 4, 5, 8], float)\n",
    "B = np.array([1, 4, 5, 8], int)\n",
    "print(\"A =\", A)\n",
    "print(type(A))\n",
    "\n",
    "print(\"\\nB =\", B)\n",
    "print(type(B))\n"
   ]
  },
  {
   "cell_type": "markdown",
   "metadata": {},
   "source": [
    "## Multi-dimensional arrays\n",
    "\n",
    "NumPy also supports multi-dimensional arrays. This is performed by setting array elements to be other arrays. In contrast to the standard lists, the different axes are accessed using commas inside bracket notation.\n"
   ]
  },
  {
   "cell_type": "code",
   "execution_count": 3,
   "metadata": {},
   "outputs": [
    {
     "name": "stdout",
     "output_type": "stream",
     "text": [
      "A =\n",
      " [[1. 2. 3.]\n",
      " [4. 5. 6.]]\n",
      "\n",
      "A[0] = [1. 2. 3.]\n",
      "A[1] = [4. 5. 6.]\n",
      "\n",
      "A[0,0] = 1.0\n",
      "A[0,1] = 2.0\n"
     ]
    }
   ],
   "source": [
    "# A two dimensional array: Each element of A is a Python list\n",
    "A = np.array([[1, 2, 3], [4, 5, 6]], float)\n",
    "print(\"A =\\n\", A)\n",
    "\n",
    "print(\"\\nA[0] =\", A[0])   # The first element of A is the first list\n",
    "print(\"A[1] =\", A[1])   # The second element of A is the second list\n",
    "\n",
    "print(\"\\nA[0,0] =\", A[0,0]) # Here is how we access individual array elements\n",
    "print(\"A[0,1] =\", A[0,1])\n"
   ]
  },
  {
   "cell_type": "markdown",
   "metadata": {},
   "source": [
    "## Indexing and slicing\n",
    "\n",
    "Similarly to lists, the elements in NumPy arrays are zero-indexed: the first element gets an index equal to 1, the second element gets an index equal to 2, and so on.\n",
    "\n",
    "Array slices also work similarly to lists. Therefore, the colon (`:`) operator means \"select all elements\" in the specified axis. On the other hand, the negative indices trigger a method that starts counting elements from the end of the specified axis.\n"
   ]
  },
  {
   "cell_type": "code",
   "execution_count": 4,
   "metadata": {},
   "outputs": [
    {
     "name": "stdout",
     "output_type": "stream",
     "text": [
      "A = [ 1.  4.  5.  8. 10. 14.]\n",
      "\n",
      "A[:2] = [1. 4.]\n",
      "A[1:3] = [4. 5.]\n",
      "A[0] = 1.0 ,\n",
      "A[1] = 8.0\n",
      "\n",
      "New A = [  2.   4.   5.   8.  10. 100.]\n"
     ]
    }
   ],
   "source": [
    "# Examples on one-dimensional arrays\n",
    "A = np.array([1, 4, 5, 8, 10, 14], float)\n",
    "\n",
    "print(\"A =\", A)\n",
    "\n",
    "print(\"\\nA[:2] =\", A[:2])   # The first two elements of A (exclude the element with index 2)\n",
    "print(\"A[1:3] =\", A[1:3]) # The 2nd & the 3rd elements of A (include the element with index 1, exclude the one with index 3)\n",
    "print(\"A[0] =\", A[0], \",\\nA[1] =\", A[3])         # The first (index 0) and 4th (index 3) element of A\n",
    "\n",
    "A[0] = 2                  # Insert 2 at the head of the array (i.e., replace 1)\n",
    "A[len(A) - 1] = 100       # Insert 100 at the tail of the array (i.e., replace 14)\n",
    "print(\"\\nNew A =\", A)\n"
   ]
  },
  {
   "cell_type": "code",
   "execution_count": 5,
   "metadata": {},
   "outputs": [
    {
     "name": "stdout",
     "output_type": "stream",
     "text": [
      "A=\n",
      " [[ 8.  2. 13.  4.]\n",
      " [ 5. 16.  7. 18.]\n",
      " [20.  6.  9. 12.]]\n",
      "\n",
      "A[1, :] - second row (index 1), all columns of A = [ 5. 16.  7. 18.]\n",
      "A[:, 2] - all rows, third column (index 2) of A = [13.  7.  9.]\n",
      "A[-1:,-2:] - last 1 row, last 2 columns of A = [[ 9. 12.]]\n"
     ]
    }
   ],
   "source": [
    "# Examples on two-dimensional arrays\n",
    "A = np.array([[8, 2, 13, 4], [5, 16, 7, 18], [20, 6, 9, 12]], float)\n",
    "\n",
    "print(\"A=\\n\", A)\n",
    "\n",
    "print(\"\\nA[1, :] - second row (index 1), all columns of A =\", A[1, :])\n",
    "print(\"A[:, 2] - all rows, third column (index 2) of A =\", A[:, 2])\n",
    "print(\"A[-1:,-2:] - last 1 row, last 2 columns of A =\", A[-1:, -2:])\n"
   ]
  },
  {
   "cell_type": "markdown",
   "metadata": {},
   "source": [
    "## Useful array methods\n",
    "\n",
    "NumPy provides a large number of useful operations and array transformations. A portion of them includes:\n",
    "\n",
    "* `A.shape` returns a tuple with the dimensions of `A`.\n",
    "* `A.reshape(shape)` rearranges the elements of `A` so that the new dimensions of `A` match `shape`. It will fail unless the elements fit exactly into the new dimensions.\n",
    "* `A.ravel(order)` returns a contiguous flattened array. It is equivalent to `A.reshape(-1, order)`.\n",
    "* `A.dtype` shows the type of values stored in `A`.\n",
    "* `len(A)` returns the length of the first axis of `A`.\n",
    "* `in` can be used to test if values are present in an array.\n",
    "* Arrays can be reshaped by using tuples that specify new dimensions. This operation can be performed with `reshape` method.\n",
    "* `A.copy()` creates a new, independent copy of `A`.\n",
    "* `A.tolist()` converts a NumPy array `A` to a Python list.\n",
    "* `A.fill(v)` fills an array `A` with a single value `v`.\n",
    "* `transpose(A)` returns the transpose $A^T$ of an array $A$ - It is an equivalent expression to `A.T`.\n",
    "* `flatten(A)` converts a multi-dimensional `A` array to one-dimensional.\n",
    "* `arange(start, stop, step)` is similar to `range`, but it also stores the generated sequence into a NumPy array. More specifically, it returns evenly spaced numbers in the range `[start, stop]` over a specified interval `step`.\n",
    "* `linspace(start, stop, num)` is similar to `arange`, but it returns `num` evenly spaced samples, calculated over the interval `[start, stop]`.\n",
    "* `zeros(shape)` and `ones(shape)` create new arrays of specified dimensions `shape`, filled with 0's or 1's respectively.\n",
    "* `identity(N)` creates a square identity matrix of a rank `N`.\n",
    "* `eye(N, k)` returns square matrices or rank `N` with ones along the `k`-th diagonal.\n"
   ]
  },
  {
   "cell_type": "code",
   "execution_count": 6,
   "metadata": {},
   "outputs": [
    {
     "name": "stdout",
     "output_type": "stream",
     "text": [
      "Shape of A: (3, 4)\n",
      "Type of A: float64\n",
      "Length of A: 3\n",
      "\n",
      "2 in A? True\n",
      "0 in A? False\n"
     ]
    }
   ],
   "source": [
    "A = np.array([[8, 2, 13, 4], [5, 16, 7, 18], [20, 6, 9, 12]], float)\n",
    "\n",
    "print(\"Shape of A:\", A.shape)\n",
    "\n",
    "print(\"Type of A:\", A.dtype)\n",
    "\n",
    "print(\"Length of A:\", len(A))\n",
    "\n",
    "print(\"\\n2 in A?\", 2 in A)\n",
    "print(\"0 in A?\", 0 in A)\n"
   ]
  },
  {
   "cell_type": "code",
   "execution_count": 7,
   "metadata": {},
   "outputs": [
    {
     "name": "stdout",
     "output_type": "stream",
     "text": [
      "A = [ 0.  1.  2.  3.  4.  5.  6.  7.  8.  9. 10. 11.]\n",
      "\n",
      "Reshaped A =\n",
      " [[ 0.  1.  2.  3.]\n",
      " [ 4.  5.  6.  7.]\n",
      " [ 8.  9. 10. 11.]]\n",
      "\n",
      "A = [0. 2. 3.]\n",
      "B = [0. 2. 3.]\n",
      "C = [1. 2. 3.]\n",
      "\n",
      "A as a list: [0.0, 2.0, 3.0]\n",
      "\n",
      "New A with zeroes:  [0. 0. 0.]\n"
     ]
    }
   ],
   "source": [
    "# Array initialization with range\n",
    "A = np.array(range(12), float) \n",
    "print(\"A =\", A)\n",
    "\n",
    "A = A.reshape((3, 4))   # Reshape A so that it has 3 rows and 4 columns\n",
    "print(\"\\nReshaped A =\\n\", A)\n",
    "\n",
    "# Normal one-dimensional array initialization\n",
    "A = np.array([1, 2, 3], float)\n",
    "\n",
    "# This example demonstrates the difference between = and copy\n",
    "B = A\n",
    "C = A.copy()\n",
    "A[0] = 0         # Change the first element of A. Notice that this change also affects B, but not C\n",
    "print(\"\\nA =\", A)\n",
    "print(\"B =\", B)\n",
    "print(\"C =\", C)\n",
    "\n",
    "# Convert NumPy array to a Python list\n",
    "print(\"\\nA as a list:\", A.tolist())\n",
    "\n",
    "# Fill all elements of A with zeroes\n",
    "A.fill(0)\n",
    "print(\"\\nNew A with zeroes: \", A)\n"
   ]
  },
  {
   "cell_type": "code",
   "execution_count": 8,
   "metadata": {},
   "outputs": [
    {
     "name": "stdout",
     "output_type": "stream",
     "text": [
      "A =\n",
      " [[0. 1. 2.]\n",
      " [3. 4. 5.]]\n",
      "\n",
      "A**T =\n",
      " [[0. 3.]\n",
      " [1. 4.]\n",
      " [2. 5.]]\n",
      "\n",
      "A flattenned =\n",
      " [0. 1. 2. 3. 4. 5.]\n",
      "\n",
      "Starting from 2, go up to 10 by taking steps of 0.5\n",
      "B = [2.  2.5 3.  3.5 4.  4.5 5.  5.5 6.  6.5 7.  7.5 8.  8.5 9.  9.5]\n",
      "\n",
      "Starting from 2, go up to 10 by constructing 17 numbers\n",
      "C = [ 2.   2.5  3.   3.5  4.   4.5  5.   5.5  6.   6.5  7.   7.5  8.   8.5\n",
      "  9.   9.5 10. ]\n",
      "\n",
      "A 2x4 array with ones\n",
      "D =\n",
      " [[1. 1. 1. 1.]\n",
      " [1. 1. 1. 1.]]\n",
      "\n",
      "A 2x4 array with zeros\n",
      "E =\n",
      " [[0. 0. 0. 0.]\n",
      " [0. 0. 0. 0.]]\n",
      "\n",
      "An identity matrix of rank 5\n",
      "I =\n",
      " [[1. 0. 0. 0. 0.]\n",
      " [0. 1. 0. 0. 0.]\n",
      " [0. 0. 1. 0. 0.]\n",
      " [0. 0. 0. 1. 0.]\n",
      " [0. 0. 0. 0. 1.]]\n"
     ]
    }
   ],
   "source": [
    "A = np.array(range(6), float).reshape((2, 3))\n",
    "\n",
    "print(\"A =\\n\", A)\n",
    "print(\"\\nA**T =\\n\", A.transpose())\n",
    "print(\"\\nA flattenned =\\n\", A.flatten())\n",
    "\n",
    "# Create a NumPy array from a sequence (start, stop) and a given step\n",
    "B = np.arange(2, 10, 0.5, dtype=float)\n",
    "print(\"\\nStarting from 2, go up to 10 by taking steps of 0.5\\nB =\", B)\n",
    "\n",
    "# Create a NumPy array from a sequence (start, stop, step)\n",
    "C = np.linspace(2, 10, 17, dtype=float)\n",
    "print(\"\\nStarting from 2, go up to 10 by constructing 17 numbers\\nC =\", C)\n",
    "\n",
    "# Create a NumPy array of given dimensions and fill it with 1s\n",
    "D = np.ones((2, 4), dtype=float)\n",
    "print(\"\\nA 2x4 array with ones\\nD =\\n\", D)\n",
    "\n",
    "# Create a NumPy array of given dimensions and fill it with 0s\n",
    "E = np.zeros((2, 4), dtype=float)\n",
    "print(\"\\nA 2x4 array with zeros\\nE =\\n\", E)\n",
    "\n",
    "# Create a (square) identity matrix\n",
    "I = np.identity(5, dtype=float)\n",
    "print(\"\\nAn identity matrix of rank 5\\nI =\\n\", I)\n"
   ]
  },
  {
   "cell_type": "markdown",
   "metadata": {},
   "source": [
    "## Array math\n",
    "\n",
    "Basic mathematical functions operate element-wise on arrays, and are available both as operator overloads and as functions in the numpy module.\n",
    "\n",
    "In addition to the standard operators, NumPy offers a large library of common mathematical functions that can be applied element-wise to arrays. Examples include `abs`, `sign`, `sqrt`, `log`, `log10`, `exp`, `sin`, `cos`, `tan`, `arcsin`, `arccos`, `arctan`, `sinh`, `cosh`, `tanh`, `arcsinh`, `arccosh`, `arctanh`, and so on.\n",
    "\n",
    "Notice that the asterisk operator (`*`) performs element-wise multiplication between matrices (also known as Hadamard). This is different than the normal matrix multiplication that is performed by using the dot (`.`) operator. Apart from standard matrix multiplication, the dot operator can be used to compute the inner product between vectors, or to multiply a vector by a matrix.\n",
    "\n",
    "Reminder: A matrix $A$ with $n$ rows and $k$ columns (i.e. dimensions $n \\times k$) can only be multiplied by matrices $B$ with $k$ rows (i.e. dimensions $k \\times m$). The product $C=A\\dot{B}$ is a new matrix with dimensions $n \\times m$.\n"
   ]
  },
  {
   "cell_type": "code",
   "execution_count": 9,
   "metadata": {},
   "outputs": [
    {
     "name": "stdout",
     "output_type": "stream",
     "text": [
      "A =\n",
      " [[4 6 8]\n",
      " [7 3 5]]\n",
      "B =\n",
      " [[5 2 6]\n",
      " [1 7 4]]\n",
      "\n",
      "Addition:\n",
      " [[ 9  8 14]\n",
      " [ 8 10  9]]\n",
      "OR:\n",
      " [[ 9  8 14]\n",
      " [ 8 10  9]]\n",
      "\n",
      "Subtraction:\n",
      " [[-1  4  2]\n",
      " [ 6 -4  1]]\n",
      "OR:\n",
      " [[-1  4  2]\n",
      " [ 6 -4  1]]\n",
      "\n",
      "Element-wise Multiplication:\n",
      " [[20 12 48]\n",
      " [ 7 21 20]]\n",
      "OR:\n",
      " [[20 12 48]\n",
      " [ 7 21 20]]\n",
      "\n",
      "Division:\n",
      " [[0.8        3.         1.33333333]\n",
      " [7.         0.42857143 1.25      ]]\n",
      "OR:\n",
      " [[0.8        3.         1.33333333]\n",
      " [7.         0.42857143 1.25      ]]\n",
      "\n",
      "element-wise square root:\n",
      "SQR =\n",
      " [[2.         2.44948974 2.82842712]\n",
      " [2.64575131 1.73205081 2.23606798]]\n"
     ]
    }
   ],
   "source": [
    "A = np.array([[4, 6, 8], [7, 3, 5]], int)\n",
    "B = np.array([[5, 2, 6], [1, 7, 4]], int)\n",
    "\n",
    "print(\"A =\\n\", A)\n",
    "print(\"B =\\n\", B)\n",
    "\n",
    "print(\"\\nAddition:\\n\", A + B)\n",
    "print(\"OR:\\n\", np.add(A, B))\n",
    "\n",
    "print(\"\\nSubtraction:\\n\", A - B)\n",
    "print(\"OR:\\n\", np.subtract(A, B))\n",
    "\n",
    "print(\"\\nElement-wise Multiplication:\\n\", A * B)\n",
    "print(\"OR:\\n\", np.multiply(A, B))\n",
    "\n",
    "print(\"\\nDivision:\\n\", A / B)\n",
    "print(\"OR:\\n\", np.divide(A, B))\n",
    "\n",
    "print(\"\\nelement-wise square root:\")\n",
    "SQR = np.sqrt(A)\n",
    "print(\"SQR =\\n\", SQR)\n"
   ]
  },
  {
   "cell_type": "code",
   "execution_count": 10,
   "metadata": {},
   "outputs": [
    {
     "name": "stdout",
     "output_type": "stream",
     "text": [
      "A =\n",
      " [[4 6 8]\n",
      " [7 3 5]]\n",
      "B =\n",
      " [[2 6]\n",
      " [1 7]\n",
      " [4 5]]\n",
      "\n",
      "v.w = 1955\n",
      "OR v.w = 1955\n",
      "\n",
      "A.v = [382 313]\n",
      "OR A.v = [382 313]\n",
      "[[ 46 106]\n",
      " [ 37  88]]\n",
      "[[ 46 106]\n",
      " [ 37  88]]\n"
     ]
    }
   ],
   "source": [
    "# Two 2-dimensional arrays\n",
    "A = np.array([[4, 6, 8], [7, 3, 5]], int)     # 2 rows, 3 columns\n",
    "B = np.array([[2, 6], [1, 7], [4, 5]], int)   # 3 rows, 2 columns\n",
    "print(\"A =\\n\", A)\n",
    "print(\"B =\\n\", B)\n",
    "\n",
    "v = np.array([20, 21, 22])  # a vector is equivalent to a 1-dimensional column array (3 rows, 1 column)\n",
    "w = np.array([30, 31, 32])  # a vector is equivalent to a 1-dimensional column array\n",
    "\n",
    "# Inner product of vectors\n",
    "print(\"\\nv.w =\", v.dot(w))\n",
    "print(\"OR v.w =\", np.dot(v, w))\n",
    "\n",
    "# Matrix / vector product; both produce the rank 1 array [29 67]\n",
    "print(\"\\nA.v =\",A.dot(v))\n",
    "print(\"OR A.v =\", np.dot(A, v))\n",
    "\n",
    "# Matrix / matrix product; both produce the rank 2 array\n",
    "print(A.dot(B))\n",
    "print(np.dot(A, B))\n"
   ]
  },
  {
   "cell_type": "markdown",
   "metadata": {},
   "source": [
    "## Array functions\n",
    "\n",
    "NumPy also has a variety of array-wise functions that allow standard arithmetic operations and statistical processing of the array elements. The most representative functions include:\n",
    "\n",
    "* `sum1`: returns the summation the array elements.\n",
    "* `prod`: returns the products of the array elements.\n",
    "* `mean`: returns the mean value of the array elements.\n",
    "* `median`: returns the median value of the array elements.\n",
    "* `var`: returns the variance of the array elements.\n",
    "* `cov`: returns the co-variance of the array elements.\n",
    "* `std`: returns the standard deviation of the array elements.\n",
    "* `min`: returns the minimal element of the array.\n",
    "* `max`: returns the maximal element of the array.\n",
    "* `argmin`: returns the index of the minimal element of the array.\n",
    "* `argmax`: returns the index of the maximal element of the array.\n"
   ]
  },
  {
   "cell_type": "code",
   "execution_count": 11,
   "metadata": {},
   "outputs": [
    {
     "name": "stdout",
     "output_type": "stream",
     "text": [
      "A = [2. 4. 3. 1. 1. 1.]\n",
      "\tSummation:\t 12.0\n",
      "\tProduct:\t 24.0\n",
      "\tMean Value:\t 2.0\n",
      "\tMedian Value:\t 1.5\n",
      "\tVariance:\t 1.3333333333333333\n",
      "\tCo-Variance:\t 1.6\n",
      "\tStd Deviation:\t 1.1547005383792515\n",
      "\tMinimum:\t 1.0\n",
      "\tMaximum:\t 4.0\n",
      "\targ Minimum:\t 3\n",
      "\targ Maximum:\t 1\n",
      "\n",
      "A =\n",
      " [[ 0.  2.]\n",
      " [ 3. -1.]\n",
      " [ 3.  5.]]\n",
      "\tMean-0:\t [2. 2.]\n",
      "\tMean-1:\t [1. 1. 4.]\n",
      "\tMax-0:\t [2. 2.]\n",
      "\tMax-1:\t [1. 1. 4.]\n"
     ]
    }
   ],
   "source": [
    "# Popular array-wise functions\n",
    "A = np.array([2, 4, 3, 1, 1, 1], float)\n",
    "print(\"A =\", A)\n",
    "print(\"\\tSummation:\\t\", A.sum())\n",
    "print(\"\\tProduct:\\t\", A.prod())\n",
    "print(\"\\tMean Value:\\t\", A.mean())\n",
    "print(\"\\tMedian Value:\\t\", np.median(A))\n",
    "print(\"\\tVariance:\\t\", A.var())\n",
    "print(\"\\tCo-Variance:\\t\", np.cov(A))\n",
    "print(\"\\tStd Deviation:\\t\", A.std())\n",
    "print(\"\\tMinimum:\\t\", A.min())\n",
    "print(\"\\tMaximum:\\t\", A.max())\n",
    "print(\"\\targ Minimum:\\t\", A.argmin())\n",
    "print(\"\\targ Maximum:\\t\", A.argmax())\n",
    "\n",
    "# Perform array-wise operations across an array axis (useful in multi-dimensional arrays)\n",
    "A = np.array([[0, 2], [3, -1], [3, 5]], float)\n",
    "print(\"\\nA =\\n\", A)\n",
    "print(\"\\tMean-0:\\t\", A.mean(axis=0))\n",
    "print(\"\\tMean-1:\\t\", A.mean(axis=1))\n",
    "print(\"\\tMax-0:\\t\", A.mean(axis=0))\n",
    "print(\"\\tMax-1:\\t\", A.mean(axis=1))\n"
   ]
  },
  {
   "cell_type": "markdown",
   "metadata": {},
   "source": [
    "## Broadcasting\n",
    "\n",
    "Broadcasting is an internal NumPy mechanism that enables arrays of different shapes to be used when performing arithmetic operations. Frequently we have a smaller array and a larger array, and we want to use the smaller array multiple times to perform some operation on the larger array. With broadcasting, the smaller array will be repeated as many times as necessary to perform the requested operation. \n",
    "\n",
    "In the following example, the one-dimensional array `B` was broadcast to a two-dimensional array that matched the size of `A`. In essence, `B` was reshaped and the empty elements were filled by repeating the pattern of the existing ones.\n"
   ]
  },
  {
   "cell_type": "code",
   "execution_count": 12,
   "metadata": {},
   "outputs": [
    {
     "name": "stdout",
     "output_type": "stream",
     "text": [
      "[[0. 5.]\n",
      " [2. 7.]\n",
      " [4. 9.]]\n"
     ]
    }
   ],
   "source": [
    "A = np.array([[1, 2], [3, 4], [5, 6]], float)\n",
    "B = np.array([-1, 3], float)\n",
    "\n",
    "# In this addition operation, B is silently extended (broadcasted) as follows:\n",
    "# B = np.array([-1, 3], [-1, 3], [-1, 3], float)\n",
    "print(A + B)\n"
   ]
  },
  {
   "cell_type": "markdown",
   "metadata": {},
   "source": [
    "Broadcasting two arrays together follows these rules:\n",
    "\n",
    "1. If the arrays do not have the same rank, prepend the shape of the lower rank array with 1s until both shapes have the same length.\n",
    "2. The two arrays are said to be compatible in a dimension if they have the same size in the dimension, or if one of the arrays has size 1 in that dimension.\n",
    "3. The arrays can be broadcast together if they are compatible in all dimensions.\n",
    "4. After broadcasting, each array behaves as if it had shape equal to the element-wise maximum of shapes of the two input arrays.\n",
    "5. In any dimension where one array had size 1 and the other array had size greater than 1, the first array behaves as if it were copied along that dimension.\n",
    "\n"
   ]
  },
  {
   "cell_type": "markdown",
   "metadata": {},
   "source": [
    "## linalg: Linear Algebra sub-module\n",
    "\n",
    "linalg is a NumPy sub-module that offers some very powerful mathematical tools. Examples include:\n",
    "\n",
    "1. The determinant and the inverse of a matrix.\n",
    "2. The computation of a matrix eigenvalues and eigenvectors. This operation is also known as eigen-decomposition and is frequently used in machine learning algorithms (e.g. spectral analysis algorithms like spectral clustering).\n",
    "3. Singular Value Decomposition (SVD): This operation decomposes a $m \\times n$ matrix $A$ into 3 lower rank matrices $U_{m \\times m}$, $S_{m \\times n}$, and $V_{n \\times n}$, so that $A=USV^T$. SVD is a well-studied solution that is applied in multiple machine learning and data mining problems (clustering, classification, topic modelling, etc.).\n",
    "\n",
    "All these operations (and numerous others) can be easily and efficiently computed with linalg.\n"
   ]
  },
  {
   "cell_type": "code",
   "execution_count": 13,
   "metadata": {},
   "outputs": [
    {
     "name": "stdout",
     "output_type": "stream",
     "text": [
      "\n",
      "Determinant: -48.00000000000003\n",
      "\n",
      "B = Inverse of A:\n",
      " [[ 0.22916667  0.04166667 -0.29166667]\n",
      " [ 0.04166667 -0.08333333  0.58333333]\n",
      " [-0.3125      0.125       0.125     ]]\n",
      "\n",
      "A.B = [[ 1.00000000e+00  0.00000000e+00 -2.22044605e-16]\n",
      " [ 0.00000000e+00  1.00000000e+00 -2.77555756e-17]\n",
      " [ 0.00000000e+00  0.00000000e+00  1.00000000e+00]]\n",
      "\n",
      "Eigenvalues of A:  [ 8.85591316  1.9391628  -2.79507597]\n",
      "Eigenvectors of A:\n",
      " [[-0.3663565  -0.54736745  0.25928158]\n",
      " [-0.88949768  0.5640176  -0.88091903]\n",
      " [-0.27308752  0.61828231  0.39592263]]\n",
      "\n",
      "\n",
      "--- SVD --------------------------------------------------------------------------\n",
      "\n",
      "SVD: A =\n",
      " [[1. 3. 4.]\n",
      " [5. 2. 3.]] \n",
      "A shape:  (2, 3) \n",
      "\n",
      "SVD: U =\n",
      " [[ 0.6113829  -0.79133492]\n",
      " [ 0.79133492  0.6113829 ]] \n",
      "U shape:  (2, 2) \n",
      "\n",
      "SVD: S = [7.46791327 2.86884495]  - S shape:  (2,) \n",
      "\n",
      "SVD: V =\n",
      " [[ 0.61169129  0.45753324  0.64536587]\n",
      " [ 0.78971838 -0.40129005 -0.46401635]\n",
      " [-0.046676   -0.79349205  0.60678804]] \n",
      "V shape:  (3, 3) \n",
      "\n"
     ]
    }
   ],
   "source": [
    "# Compute the determinant of a matrix\n",
    "A = np.array([[4, 2, 0], [9, 3, 7], [1, 2, 1]], float)\n",
    "print (\"\\nDeterminant:\", np.linalg.det(A))\n",
    "\n",
    "# Compute the inverse of a matrix\n",
    "B = np.linalg.inv(A)\n",
    "print(\"\\nB = Inverse of A:\\n\", B)\n",
    "print(\"\\nA.B =\", np.dot(A, B))   # A.B = I\n",
    "\n",
    "# Eigendecomposition\n",
    "evals, evecs = np.linalg.eig(A)\n",
    "print (\"\\nEigenvalues of A: \", evals)\n",
    "print (\"Eigenvectors of A:\\n\", evecs)\n",
    "\n",
    "# Singular Value Decomposition\n",
    "print(\"\\n\\n--- SVD --------------------------------------------------------------------------\\n\")\n",
    "A = np.array([[1, 3, 4], [5, 2, 3]], float)\n",
    "U, S, V = np.linalg.svd(A)\n",
    "\n",
    "print(\"SVD: A =\\n\", A, \"\\nA shape: \", np.shape(A), \"\\n\")\n",
    "print(\"SVD: U =\\n\", U, \"\\nU shape: \", np.shape(U), \"\\n\")\n",
    "print(\"SVD: S =\", S, \" - S shape: \", np.shape(S), \"\\n\")\n",
    "print(\"SVD: V =\\n\", V, \"\\nV shape: \", np.shape(V), \"\\n\")\n"
   ]
  },
  {
   "cell_type": "markdown",
   "metadata": {},
   "source": [
    "## NumPy polynomials\n",
    "\n",
    "NumPy also offers support for polynomials and has a special set of functions to perform math operations on polynomials. For instance:\n",
    "\n",
    "* `poly` identifies a polynomial from its roots.\n",
    "* `roots` finds the roots of a given polynomial.\n",
    "* `polyval` evaluates a polynomial at a particular point.\n",
    "* `polyfit` fits a polynomial of specified order to a set of data using a least-squares approach.\n"
   ]
  },
  {
   "cell_type": "code",
   "execution_count": 14,
   "metadata": {},
   "outputs": [
    {
     "name": "stdout",
     "output_type": "stream",
     "text": [
      "[  1. -11.   9.  11. -10.]\n",
      "[-4.5797401 +0.j          0.28987005+0.75566815j  0.28987005-0.75566815j]\n",
      "123\n",
      "[ 2.48809524 -4.57142857]\n"
     ]
    }
   ],
   "source": [
    "# Examples on polynomials\n",
    "y = np.poly([-1, 1, 1, 10])  # these are the roots of the polynomial. NumPy will identify the polynomial that has these roots\n",
    "print(y)\n",
    "\n",
    "# Find the roots of a given polynomial\n",
    "print(np.roots([1, 4, -2, 3]))         # x^3 + 4x^2 - 2x + 3 --> we are expecting 3 roots\n",
    "print(np.polyval([1, 4, -2, 3], 4))    # Evaluate x^3 + 4x^2 - 2x + 3 at 4 = 4^3 + 4*4^2 - 2*4 + 3 = 64 + 64 - 8 + 3 = 123\n",
    "\n",
    "x = [1, 2, 3, 4, 5, 6, 7, 8]\n",
    "y = [0, 2, 1, 3, 7, 10, 11, 19]\n",
    "print(np.polyfit(x, y, 1))\n"
   ]
  },
  {
   "cell_type": "markdown",
   "metadata": {},
   "source": [
    "## Random numbers\n",
    "\n",
    "NumPy has built-in pseudorandom number generator routines in the sub-module random. The numbers are pseudorandom in the sense that they are generated deterministically from a seed number. However, they are distributed in what has statistical similarities to random fashion. NumPy uses a particular algorithm called the Mersenne Twister to generate pseudorandom numbers.\n",
    "\n",
    "We can set the random number seed. The seed is an integer value. Any program that starts with the same seed will generate exactly the same sequence of random numbers each time it is run.\n",
    "\n",
    "If this command is not run, NumPy automatically selects a random seed (based on the time) that is different every time a program runs.\n"
   ]
  },
  {
   "cell_type": "code",
   "execution_count": 15,
   "metadata": {},
   "outputs": [
    {
     "name": "stdout",
     "output_type": "stream",
     "text": [
      "[0.33677247 0.52693437 0.79529578 0.78867702 0.02147624]\n",
      "[[0.84612516 0.0704939  0.1526965 ]\n",
      " [0.77831701 0.80821151 0.82198398]]\n",
      "0.9023965286127028\n",
      "6\n",
      "4\n",
      "-1.4713023291989673\n",
      "-0.2029724326424716\n"
     ]
    }
   ],
   "source": [
    "np.random.seed(293423)\n",
    "print(np.random.rand(5))\n",
    "print(np.random.rand(2,3))\n",
    "print(np.random.random())\n",
    "print(np.random.randint(6, 10))\n",
    "\n",
    "# Poisson distribution, λ = 6:\n",
    "print(np.random.poisson(6.0))\n",
    "\n",
    "# Gaussian distribution μ = 1.5, σ = 4.0\n",
    "print(np.random.normal(1.5, 4.0))\n",
    "\n",
    "# Standard normal distribution μ = 0, σ = 1\n",
    "print(np.random.normal())\n"
   ]
  }
 ],
 "metadata": {
  "kernelspec": {
   "display_name": "Python 3 (ipykernel)",
   "language": "python",
   "name": "python3"
  },
  "language_info": {
   "codemirror_mode": {
    "name": "ipython",
    "version": 3
   },
   "file_extension": ".py",
   "mimetype": "text/x-python",
   "name": "python",
   "nbconvert_exporter": "python",
   "pygments_lexer": "ipython3",
   "version": "3.9.12"
  },
  "toc": {
   "colors": {
    "hover_highlight": "#DAA520",
    "navigate_num": "#000000",
    "navigate_text": "#333333",
    "running_highlight": "#FF0000",
    "selected_highlight": "#FFD700",
    "sidebar_border": "#EEEEEE",
    "wrapper_background": "#FFFFFF"
   },
   "moveMenuLeft": true,
   "nav_menu": {
    "height": "327.633px",
    "width": "252px"
   },
   "navigate_menu": true,
   "number_sections": false,
   "sideBar": true,
   "threshold": 4,
   "toc_cell": true,
   "toc_section_display": "block",
   "toc_window_display": false,
   "widenNotebook": false
  }
 },
 "nbformat": 4,
 "nbformat_minor": 2
}
