{
 "cells": [
  {
   "cell_type": "markdown",
   "metadata": {},
   "source": [
    "# Clustering with k-Means on text datasets\n"
   ]
  },
  {
   "cell_type": "markdown",
   "metadata": {},
   "source": [
    "In this notebook we will apply the k-Means clustering algorithm on a text dataset. We will apply the techniques that were presented in the three previous notebooks, i.e., MLLAB-11, MLLAB-12, and MLLAB-13.\n",
    "\n",
    "The PriceRunner CPUs dataset contains 3861 CPU models crawled from the PriceRunner product comparison platform at 2019. For each product, the dataset includes:\n",
    "\n",
    "* a unique integer identifier\n",
    "* a title\n",
    "* an integer identifier of the product vendor\n",
    "* an integer identifier of the correct cluster (namely, where the product should be placed in).\n",
    "* two category columns that will not be used.\n",
    "\n",
    "Our goal here to create clusters of products, so that each cluster contains CPUs that belong to the same model.\n"
   ]
  },
  {
   "cell_type": "code",
   "execution_count": 1,
   "metadata": {},
   "outputs": [],
   "source": [
    "import numpy as np\n",
    "import pandas as pd\n"
   ]
  },
  {
   "cell_type": "code",
   "execution_count": 2,
   "metadata": {},
   "outputs": [
    {
     "name": "stdout",
     "output_type": "stream",
     "text": [
      "Dataframe Shape:  (3861, 7)\n"
     ]
    },
    {
     "data": {
      "text/html": [
       "<div>\n",
       "<style scoped>\n",
       "    .dataframe tbody tr th:only-of-type {\n",
       "        vertical-align: middle;\n",
       "    }\n",
       "\n",
       "    .dataframe tbody tr th {\n",
       "        vertical-align: top;\n",
       "    }\n",
       "\n",
       "    .dataframe thead th {\n",
       "        text-align: right;\n",
       "    }\n",
       "</style>\n",
       "<table border=\"1\" class=\"dataframe\">\n",
       "  <thead>\n",
       "    <tr style=\"text-align: right;\">\n",
       "      <th></th>\n",
       "      <th>ID</th>\n",
       "      <th>Title</th>\n",
       "      <th>VendorID</th>\n",
       "      <th>ClusterID</th>\n",
       "      <th>ClusterLabel</th>\n",
       "      <th>CategoryID</th>\n",
       "      <th>CategoryLabel</th>\n",
       "    </tr>\n",
       "  </thead>\n",
       "  <tbody>\n",
       "    <tr>\n",
       "      <th>0</th>\n",
       "      <td>13772</td>\n",
       "      <td>amd ryzen 7 1700x 8 core am4 cpu/processor</td>\n",
       "      <td>4</td>\n",
       "      <td>5851</td>\n",
       "      <td>AMD Ryzen 7 1700X 3.4GHz Box</td>\n",
       "      <td>2615</td>\n",
       "      <td>CPUs</td>\n",
       "    </tr>\n",
       "    <tr>\n",
       "      <th>1</th>\n",
       "      <td>13773</td>\n",
       "      <td>amd ryzen 7 1700x 3.4ghz 16mb l3 processor</td>\n",
       "      <td>14</td>\n",
       "      <td>5851</td>\n",
       "      <td>AMD Ryzen 7 1700X 3.4GHz Box</td>\n",
       "      <td>2615</td>\n",
       "      <td>CPUs</td>\n",
       "    </tr>\n",
       "    <tr>\n",
       "      <th>2</th>\n",
       "      <td>13774</td>\n",
       "      <td>amd ryzen 7 1700x 95 w 8 core/16 threads 3.8gh...</td>\n",
       "      <td>3</td>\n",
       "      <td>5851</td>\n",
       "      <td>AMD Ryzen 7 1700X 3.4GHz Box</td>\n",
       "      <td>2615</td>\n",
       "      <td>CPUs</td>\n",
       "    </tr>\n",
       "    <tr>\n",
       "      <th>3</th>\n",
       "      <td>13775</td>\n",
       "      <td>open box amd ryzen 7 1700x 3.8 ghz 8 core 95w ...</td>\n",
       "      <td>30</td>\n",
       "      <td>5851</td>\n",
       "      <td>AMD Ryzen 7 1700X 3.4GHz Box</td>\n",
       "      <td>2615</td>\n",
       "      <td>CPUs</td>\n",
       "    </tr>\n",
       "    <tr>\n",
       "      <th>4</th>\n",
       "      <td>13776</td>\n",
       "      <td>amd ryzen 7 1700x 8 core 16 thread am4 cpu/pro...</td>\n",
       "      <td>121</td>\n",
       "      <td>5851</td>\n",
       "      <td>AMD Ryzen 7 1700X 3.4GHz Box</td>\n",
       "      <td>2615</td>\n",
       "      <td>CPUs</td>\n",
       "    </tr>\n",
       "    <tr>\n",
       "      <th>5</th>\n",
       "      <td>13777</td>\n",
       "      <td>wof processor amd ryzen 7 1700x 8 x 3.4 ghz oc...</td>\n",
       "      <td>16</td>\n",
       "      <td>5851</td>\n",
       "      <td>AMD Ryzen 7 1700X 3.4GHz Box</td>\n",
       "      <td>2615</td>\n",
       "      <td>CPUs</td>\n",
       "    </tr>\n",
       "    <tr>\n",
       "      <th>6</th>\n",
       "      <td>13778</td>\n",
       "      <td>amd ryzen 7 1700x cpu am4 3.4ghz 3.8 turbo 8 c...</td>\n",
       "      <td>18</td>\n",
       "      <td>5851</td>\n",
       "      <td>AMD Ryzen 7 1700X 3.4GHz Box</td>\n",
       "      <td>2615</td>\n",
       "      <td>CPUs</td>\n",
       "    </tr>\n",
       "    <tr>\n",
       "      <th>7</th>\n",
       "      <td>13779</td>\n",
       "      <td>amd prozessor cpu ryzen 7 sockel am4 1700x 8 x...</td>\n",
       "      <td>36</td>\n",
       "      <td>5851</td>\n",
       "      <td>AMD Ryzen 7 1700X 3.4GHz Box</td>\n",
       "      <td>2615</td>\n",
       "      <td>CPUs</td>\n",
       "    </tr>\n",
       "    <tr>\n",
       "      <th>8</th>\n",
       "      <td>13780</td>\n",
       "      <td>intel core intel core i7 7700 processor 8m cac...</td>\n",
       "      <td>18</td>\n",
       "      <td>5852</td>\n",
       "      <td>Intel Core i7-7700 3.6GHz Box</td>\n",
       "      <td>2615</td>\n",
       "      <td>CPUs</td>\n",
       "    </tr>\n",
       "    <tr>\n",
       "      <th>9</th>\n",
       "      <td>13781</td>\n",
       "      <td>intel core i7 7700 3.60ghz s1151 8mb cache kab...</td>\n",
       "      <td>8</td>\n",
       "      <td>5852</td>\n",
       "      <td>Intel Core i7-7700 3.6GHz Box</td>\n",
       "      <td>2615</td>\n",
       "      <td>CPUs</td>\n",
       "    </tr>\n",
       "  </tbody>\n",
       "</table>\n",
       "</div>"
      ],
      "text/plain": [
       "      ID                                              Title  VendorID  \\\n",
       "0  13772         amd ryzen 7 1700x 8 core am4 cpu/processor         4   \n",
       "1  13773         amd ryzen 7 1700x 3.4ghz 16mb l3 processor        14   \n",
       "2  13774  amd ryzen 7 1700x 95 w 8 core/16 threads 3.8gh...         3   \n",
       "3  13775  open box amd ryzen 7 1700x 3.8 ghz 8 core 95w ...        30   \n",
       "4  13776  amd ryzen 7 1700x 8 core 16 thread am4 cpu/pro...       121   \n",
       "5  13777  wof processor amd ryzen 7 1700x 8 x 3.4 ghz oc...        16   \n",
       "6  13778  amd ryzen 7 1700x cpu am4 3.4ghz 3.8 turbo 8 c...        18   \n",
       "7  13779  amd prozessor cpu ryzen 7 sockel am4 1700x 8 x...        36   \n",
       "8  13780  intel core intel core i7 7700 processor 8m cac...        18   \n",
       "9  13781  intel core i7 7700 3.60ghz s1151 8mb cache kab...         8   \n",
       "\n",
       "   ClusterID                   ClusterLabel  CategoryID CategoryLabel  \n",
       "0       5851   AMD Ryzen 7 1700X 3.4GHz Box        2615          CPUs  \n",
       "1       5851   AMD Ryzen 7 1700X 3.4GHz Box        2615          CPUs  \n",
       "2       5851   AMD Ryzen 7 1700X 3.4GHz Box        2615          CPUs  \n",
       "3       5851   AMD Ryzen 7 1700X 3.4GHz Box        2615          CPUs  \n",
       "4       5851   AMD Ryzen 7 1700X 3.4GHz Box        2615          CPUs  \n",
       "5       5851   AMD Ryzen 7 1700X 3.4GHz Box        2615          CPUs  \n",
       "6       5851   AMD Ryzen 7 1700X 3.4GHz Box        2615          CPUs  \n",
       "7       5851   AMD Ryzen 7 1700X 3.4GHz Box        2615          CPUs  \n",
       "8       5852  Intel Core i7-7700 3.6GHz Box        2615          CPUs  \n",
       "9       5852  Intel Core i7-7700 3.6GHz Box        2615          CPUs  "
      ]
     },
     "execution_count": 2,
     "metadata": {},
     "output_type": "execute_result"
    }
   ],
   "source": [
    "# Read the PriceRunner aggregate file with the 3861 product titles\n",
    "df = pd.read_csv('datasets/pricerunner_cpus.csv', encoding='utf-8', skiprows=1, header=None)\n",
    "df.columns = ['ID', 'Title', 'VendorID', 'ClusterID', 'ClusterLabel', 'CategoryID', 'CategoryLabel']\n",
    "\n",
    "print(\"Dataframe Shape: \", df.shape)\n",
    "df.head(10)\n"
   ]
  },
  {
   "cell_type": "code",
   "execution_count": 3,
   "metadata": {},
   "outputs": [
    {
     "data": {
      "text/html": [
       "<div>\n",
       "<style scoped>\n",
       "    .dataframe tbody tr th:only-of-type {\n",
       "        vertical-align: middle;\n",
       "    }\n",
       "\n",
       "    .dataframe tbody tr th {\n",
       "        vertical-align: top;\n",
       "    }\n",
       "\n",
       "    .dataframe thead th {\n",
       "        text-align: right;\n",
       "    }\n",
       "</style>\n",
       "<table border=\"1\" class=\"dataframe\">\n",
       "  <thead>\n",
       "    <tr style=\"text-align: right;\">\n",
       "      <th></th>\n",
       "      <th>Title</th>\n",
       "      <th>ClusterID</th>\n",
       "    </tr>\n",
       "  </thead>\n",
       "  <tbody>\n",
       "    <tr>\n",
       "      <th>0</th>\n",
       "      <td>amd ryzen 7 1700x 8 core am4 cpu/processor</td>\n",
       "      <td>5851</td>\n",
       "    </tr>\n",
       "    <tr>\n",
       "      <th>1</th>\n",
       "      <td>amd ryzen 7 1700x 3.4ghz 16mb l3 processor</td>\n",
       "      <td>5851</td>\n",
       "    </tr>\n",
       "    <tr>\n",
       "      <th>2</th>\n",
       "      <td>amd ryzen 7 1700x 95 w 8 core/16 threads 3.8gh...</td>\n",
       "      <td>5851</td>\n",
       "    </tr>\n",
       "    <tr>\n",
       "      <th>3</th>\n",
       "      <td>open box amd ryzen 7 1700x 3.8 ghz 8 core 95w ...</td>\n",
       "      <td>5851</td>\n",
       "    </tr>\n",
       "    <tr>\n",
       "      <th>4</th>\n",
       "      <td>amd ryzen 7 1700x 8 core 16 thread am4 cpu/pro...</td>\n",
       "      <td>5851</td>\n",
       "    </tr>\n",
       "    <tr>\n",
       "      <th>5</th>\n",
       "      <td>wof processor amd ryzen 7 1700x 8 x 3.4 ghz oc...</td>\n",
       "      <td>5851</td>\n",
       "    </tr>\n",
       "    <tr>\n",
       "      <th>6</th>\n",
       "      <td>amd ryzen 7 1700x cpu am4 3.4ghz 3.8 turbo 8 c...</td>\n",
       "      <td>5851</td>\n",
       "    </tr>\n",
       "    <tr>\n",
       "      <th>7</th>\n",
       "      <td>amd prozessor cpu ryzen 7 sockel am4 1700x 8 x...</td>\n",
       "      <td>5851</td>\n",
       "    </tr>\n",
       "    <tr>\n",
       "      <th>8</th>\n",
       "      <td>intel core intel core i7 7700 processor 8m cac...</td>\n",
       "      <td>5852</td>\n",
       "    </tr>\n",
       "    <tr>\n",
       "      <th>9</th>\n",
       "      <td>intel core i7 7700 3.60ghz s1151 8mb cache kab...</td>\n",
       "      <td>5852</td>\n",
       "    </tr>\n",
       "  </tbody>\n",
       "</table>\n",
       "</div>"
      ],
      "text/plain": [
       "                                               Title  ClusterID\n",
       "0         amd ryzen 7 1700x 8 core am4 cpu/processor       5851\n",
       "1         amd ryzen 7 1700x 3.4ghz 16mb l3 processor       5851\n",
       "2  amd ryzen 7 1700x 95 w 8 core/16 threads 3.8gh...       5851\n",
       "3  open box amd ryzen 7 1700x 3.8 ghz 8 core 95w ...       5851\n",
       "4  amd ryzen 7 1700x 8 core 16 thread am4 cpu/pro...       5851\n",
       "5  wof processor amd ryzen 7 1700x 8 x 3.4 ghz oc...       5851\n",
       "6  amd ryzen 7 1700x cpu am4 3.4ghz 3.8 turbo 8 c...       5851\n",
       "7  amd prozessor cpu ryzen 7 sockel am4 1700x 8 x...       5851\n",
       "8  intel core intel core i7 7700 processor 8m cac...       5852\n",
       "9  intel core i7 7700 3.60ghz s1151 8mb cache kab...       5852"
      ]
     },
     "execution_count": 3,
     "metadata": {},
     "output_type": "execute_result"
    }
   ],
   "source": [
    "# Copy the dataframe to another dataframe with 2 columns\n",
    "products_df = df[['Title', 'ClusterID']].copy()\n",
    "products_df.head(10)\n"
   ]
  },
  {
   "cell_type": "code",
   "execution_count": 4,
   "metadata": {},
   "outputs": [
    {
     "data": {
      "text/plain": [
       "'amd ryzen 7 1700x 3 4ghz 16mb l3 processor'"
      ]
     },
     "execution_count": 4,
     "metadata": {},
     "output_type": "execute_result"
    }
   ],
   "source": [
    "import re\n",
    "\n",
    "# Remove punctuation and apply case folding to the product titles\n",
    "def preprocessor(text):\n",
    "    text = re.sub('<[^>]*>', '', text)\n",
    "    emoticons = re.findall('(?::|;|=)(?:-)?(?:\\)|\\(|D|P)', text)\n",
    "    text = (re.sub('[\\W]+', ' ', text.lower()) + ' ' .join(emoticons).replace('-', ''))\n",
    "\n",
    "    return text\n",
    "\n",
    "# Example on the second row\n",
    "preprocessor(products_df.loc[1, 'Title'])\n"
   ]
  },
  {
   "cell_type": "code",
   "execution_count": 5,
   "metadata": {},
   "outputs": [
    {
     "data": {
      "text/html": [
       "<div>\n",
       "<style scoped>\n",
       "    .dataframe tbody tr th:only-of-type {\n",
       "        vertical-align: middle;\n",
       "    }\n",
       "\n",
       "    .dataframe tbody tr th {\n",
       "        vertical-align: top;\n",
       "    }\n",
       "\n",
       "    .dataframe thead th {\n",
       "        text-align: right;\n",
       "    }\n",
       "</style>\n",
       "<table border=\"1\" class=\"dataframe\">\n",
       "  <thead>\n",
       "    <tr style=\"text-align: right;\">\n",
       "      <th></th>\n",
       "      <th>Title</th>\n",
       "      <th>ClusterID</th>\n",
       "    </tr>\n",
       "  </thead>\n",
       "  <tbody>\n",
       "    <tr>\n",
       "      <th>0</th>\n",
       "      <td>amd ryzen 7 1700x 8 core am4 cpu processor</td>\n",
       "      <td>5851</td>\n",
       "    </tr>\n",
       "    <tr>\n",
       "      <th>1</th>\n",
       "      <td>amd ryzen 7 1700x 3 4ghz 16mb l3 processor</td>\n",
       "      <td>5851</td>\n",
       "    </tr>\n",
       "    <tr>\n",
       "      <th>2</th>\n",
       "      <td>amd ryzen 7 1700x 95 w 8 core 16 threads 3 8gh...</td>\n",
       "      <td>5851</td>\n",
       "    </tr>\n",
       "    <tr>\n",
       "      <th>3</th>\n",
       "      <td>open box amd ryzen 7 1700x 3 8 ghz 8 core 95w ...</td>\n",
       "      <td>5851</td>\n",
       "    </tr>\n",
       "    <tr>\n",
       "      <th>4</th>\n",
       "      <td>amd ryzen 7 1700x 8 core 16 thread am4 cpu pro...</td>\n",
       "      <td>5851</td>\n",
       "    </tr>\n",
       "  </tbody>\n",
       "</table>\n",
       "</div>"
      ],
      "text/plain": [
       "                                               Title  ClusterID\n",
       "0         amd ryzen 7 1700x 8 core am4 cpu processor       5851\n",
       "1         amd ryzen 7 1700x 3 4ghz 16mb l3 processor       5851\n",
       "2  amd ryzen 7 1700x 95 w 8 core 16 threads 3 8gh...       5851\n",
       "3  open box amd ryzen 7 1700x 3 8 ghz 8 core 95w ...       5851\n",
       "4  amd ryzen 7 1700x 8 core 16 thread am4 cpu pro...       5851"
      ]
     },
     "execution_count": 5,
     "metadata": {},
     "output_type": "execute_result"
    }
   ],
   "source": [
    "# Apply the preprocessor function to the product titles\n",
    "products_df['Title'] = products_df['Title'].apply(preprocessor)\n",
    "products_df.head()\n"
   ]
  },
  {
   "cell_type": "code",
   "execution_count": 6,
   "metadata": {},
   "outputs": [
    {
     "data": {
      "text/plain": [
       "array(['amd ryzen 7 1700x 8 core am4 cpu processor',\n",
       "       'amd ryzen 7 1700x 3 4ghz 16mb l3 processor',\n",
       "       'amd ryzen 7 1700x 95 w 8 core 16 threads 3 8ghz 4mb cpu black',\n",
       "       ..., 'intel bx80532ke3066e processor 3 06 ghz 1 mb l2',\n",
       "       'intel bx80532ke2400d processor 2 4 ghz 0 512 mb l2',\n",
       "       'intel bx80532ke3066e processor 3 06 ghz 1 mb l2'], dtype=object)"
      ]
     },
     "execution_count": 6,
     "metadata": {},
     "output_type": "execute_result"
    }
   ],
   "source": [
    "# Copy the Title column of the dataframe into a numpy array\n",
    "titles_array = products_df['Title'].to_numpy()\n",
    "real_clusters = products_df['ClusterID'].to_numpy()\n",
    "titles_array\n"
   ]
  },
  {
   "cell_type": "code",
   "execution_count": 7,
   "metadata": {},
   "outputs": [
    {
     "data": {
      "text/plain": [
       "((3861, 2288),\n",
       " array([[0., 0., 0., ..., 0., 0., 0.],\n",
       "        [0., 0., 0., ..., 0., 0., 0.],\n",
       "        [0., 0., 0., ..., 0., 0., 0.],\n",
       "        ...,\n",
       "        [0., 0., 0., ..., 0., 0., 0.],\n",
       "        [0., 0., 0., ..., 0., 0., 0.],\n",
       "        [0., 0., 0., ..., 0., 0., 0.]]))"
      ]
     },
     "execution_count": 7,
     "metadata": {},
     "output_type": "execute_result"
    }
   ],
   "source": [
    "# Vectoryze the product titles by using the TfidfVectorizer of scikit learn\n",
    "from sklearn.feature_extraction.text import TfidfVectorizer\n",
    "\n",
    "tfidf_vectorizer = TfidfVectorizer(use_idf=True, norm = 'l2', smooth_idf = True)\n",
    "\n",
    "vectorized_titles = tfidf_vectorizer.fit_transform(titles_array).toarray()\n",
    "\n",
    "vectorized_titles.shape, vectorized_titles\n"
   ]
  },
  {
   "cell_type": "code",
   "execution_count": 8,
   "metadata": {},
   "outputs": [],
   "source": [
    "#from sklearn.decomposition import PCA\n",
    "\n",
    "#pca = PCA(n_components = 100)\n",
    "\n",
    "#reduced_titles = pca.fit_transform(vectorized_titles)\n",
    "\n",
    "#reduced_titles.shape, reduced_titles\n"
   ]
  },
  {
   "cell_type": "code",
   "execution_count": 9,
   "metadata": {},
   "outputs": [
    {
     "name": "stdout",
     "output_type": "stream",
     "text": [
      "[1045  228  958 ...  530 1590  530]\n",
      "[5851 5851 5851 ... 7913 7914 7915]\n"
     ]
    }
   ],
   "source": [
    "from sklearn.cluster import KMeans\n",
    "\n",
    "# Apply k-Means to the dataset. We know in advance that the algorithm must generate 1975 clusters.\n",
    "km = KMeans(n_clusters=1975, init='random', n_init=1, max_iter=10, tol=1e-04, random_state=0)\n",
    "\n",
    "predicted_clusters = km.fit_predict(vectorized_titles)\n",
    "\n",
    "print(predicted_clusters)\n",
    "print(real_clusters)\n"
   ]
  },
  {
   "cell_type": "code",
   "execution_count": 10,
   "metadata": {},
   "outputs": [
    {
     "name": "stdout",
     "output_type": "stream",
     "text": [
      "Adjusted Rand Score:  0.254997954471954\n",
      "Completeness:  0.9242097301000132\n",
      "Homogeneity:  0.9242987714725341\n",
      "NMI:  0.9242542486417431\n",
      "AMI:  0.3596284367979433\n"
     ]
    }
   ],
   "source": [
    "from sklearn.metrics import completeness_score\n",
    "from sklearn.metrics import homogeneity_score\n",
    "from sklearn.metrics import adjusted_rand_score\n",
    "from sklearn.metrics import adjusted_mutual_info_score\n",
    "from sklearn.metrics import normalized_mutual_info_score\n",
    "\n",
    "print(\"Adjusted Rand Score: \", adjusted_rand_score(real_clusters, predicted_clusters))\n",
    "print(\"Completeness: \", completeness_score(real_clusters, predicted_clusters))\n",
    "print(\"Homogeneity: \", homogeneity_score(real_clusters, predicted_clusters))\n",
    "print(\"NMI: \", normalized_mutual_info_score(real_clusters, predicted_clusters))\n",
    "print(\"AMI: \", adjusted_mutual_info_score(real_clusters, predicted_clusters))\n"
   ]
  }
 ],
 "metadata": {
  "kernelspec": {
   "display_name": "Python 3 (ipykernel)",
   "language": "python",
   "name": "python3"
  },
  "language_info": {
   "codemirror_mode": {
    "name": "ipython",
    "version": 3
   },
   "file_extension": ".py",
   "mimetype": "text/x-python",
   "name": "python",
   "nbconvert_exporter": "python",
   "pygments_lexer": "ipython3",
   "version": "3.9.12"
  }
 },
 "nbformat": 4,
 "nbformat_minor": 4
}
